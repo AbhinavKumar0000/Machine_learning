{
  "nbformat": 4,
  "nbformat_minor": 0,
  "metadata": {
    "colab": {
      "provenance": [],
      "authorship_tag": "ABX9TyNzTP9CNMXEaFZKFM7lQG4h",
      "include_colab_link": true
    },
    "kernelspec": {
      "name": "python3",
      "display_name": "Python 3"
    },
    "language_info": {
      "name": "python"
    }
  },
  "cells": [
    {
      "cell_type": "markdown",
      "metadata": {
        "id": "view-in-github",
        "colab_type": "text"
      },
      "source": [
        "<a href=\"https://colab.research.google.com/github/AbhinavKumar0000/Machine_learning/blob/main/tf_pipeline_Optimization.ipynb\" target=\"_parent\"><img src=\"https://colab.research.google.com/assets/colab-badge.svg\" alt=\"Open In Colab\"/></a>"
      ]
    },
    {
      "cell_type": "code",
      "execution_count": 1,
      "metadata": {
        "id": "eat44SGlTnkP"
      },
      "outputs": [],
      "source": [
        "import tensorflow as tf\n",
        "import time"
      ]
    },
    {
      "cell_type": "code",
      "source": [
        "tf.__version__"
      ],
      "metadata": {
        "colab": {
          "base_uri": "https://localhost:8080/",
          "height": 36
        },
        "id": "VMRvw0E8Uqb4",
        "outputId": "5be23c70-e991-4a2c-8738-7a8179ff9a68"
      },
      "execution_count": 2,
      "outputs": [
        {
          "output_type": "execute_result",
          "data": {
            "text/plain": [
              "'2.19.0'"
            ],
            "application/vnd.google.colaboratory.intrinsic+json": {
              "type": "string"
            }
          },
          "metadata": {},
          "execution_count": 2
        }
      ]
    },
    {
      "cell_type": "code",
      "source": [
        "def read_file_in_batches(num_samples):\n",
        "  \"\"\"\n",
        "  Generator function to simulate reading data.\n",
        "  \"\"\"\n",
        "  # Simulate opening a file\n",
        "  time.sleep(0.03)\n",
        "  for sample_idx in range(num_samples):\n",
        "    # Simulate reading a sample\n",
        "    time.sleep(0.015)\n",
        "    # The comma makes this a tuple of shape (1,), e.g., (0,)\n",
        "    yield (sample_idx,)\n",
        "\n"
      ],
      "metadata": {
        "id": "Gm9Tv3OuXdlO"
      },
      "execution_count": 16,
      "outputs": []
    },
    {
      "cell_type": "code",
      "source": [
        "def FileDataset(num_samples=3):\n",
        "  \"\"\"\n",
        "  A factory function that returns a tf.data.Dataset.\n",
        "  \"\"\"\n",
        "  return tf.data.Dataset.from_generator(\n",
        "      lambda: read_file_in_batches(num_samples),\n",
        "      # The output_signature shape must match the generator's yield shape.\n",
        "      # The generator yields a tuple (sample_idx,), which has a shape of (1,).\n",
        "      output_signature=tf.TensorSpec(shape=(1,), dtype=tf.int64)\n",
        "  )\n"
      ],
      "metadata": {
        "id": "jnHwSCV8XgE1"
      },
      "execution_count": 17,
      "outputs": []
    },
    {
      "cell_type": "code",
      "source": [
        "def benchmark(dataset, num_epochs=2):\n",
        "  \"\"\"Function to benchmark dataset iteration.\"\"\"\n",
        "  for epoch_num in range(num_epochs):\n",
        "    for sample in dataset:\n",
        "      # Simulate a training step\n",
        "      time.sleep(0.01)"
      ],
      "metadata": {
        "id": "_3Z1nsZcXiQh"
      },
      "execution_count": 18,
      "outputs": []
    },
    {
      "cell_type": "code",
      "source": [
        "%%timeit\n",
        "benchmark(FileDataset())\n",
        "\n",
        "print(\"Benchmark finished successfully.\")"
      ],
      "metadata": {
        "colab": {
          "base_uri": "https://localhost:8080/"
        },
        "id": "rvvY95rFXk0m",
        "outputId": "dc932d4a-fa30-4cc3-ccb4-8da7f0fa09bf"
      },
      "execution_count": 20,
      "outputs": [
        {
          "output_type": "stream",
          "name": "stdout",
          "text": [
            "Benchmark finished successfully.\n",
            "Benchmark finished successfully.\n",
            "Benchmark finished successfully.\n",
            "Benchmark finished successfully.\n",
            "Benchmark finished successfully.\n",
            "Benchmark finished successfully.\n",
            "Benchmark finished successfully.\n",
            "Benchmark finished successfully.\n",
            "261 ms ± 56.1 ms per loop (mean ± std. dev. of 7 runs, 1 loop each)\n"
          ]
        }
      ]
    },
    {
      "cell_type": "code",
      "source": [
        "%%timeit\n",
        "benchmark(FileDataset().prefetch(1))"
      ],
      "metadata": {
        "colab": {
          "base_uri": "https://localhost:8080/"
        },
        "id": "1O9bW9oAX3EP",
        "outputId": "defcc5df-475d-4efa-cac7-620e0bb2dfcd"
      },
      "execution_count": 22,
      "outputs": [
        {
          "output_type": "stream",
          "name": "stdout",
          "text": [
            "243 ms ± 10.4 ms per loop (mean ± std. dev. of 7 runs, 1 loop each)\n"
          ]
        }
      ]
    },
    {
      "cell_type": "code",
      "source": [
        "%%timeit\n",
        "benchmark(FileDataset().prefetch(tf.data.AUTOTUNE))"
      ],
      "metadata": {
        "colab": {
          "base_uri": "https://localhost:8080/"
        },
        "id": "L17ukqozYLEA",
        "outputId": "974dbcd8-c627-4e30-8973-47b70cda98b2"
      },
      "execution_count": 24,
      "outputs": [
        {
          "output_type": "stream",
          "name": "stdout",
          "text": [
            "248 ms ± 14 ms per loop (mean ± std. dev. of 7 runs, 1 loop each)\n"
          ]
        }
      ]
    },
    {
      "cell_type": "code",
      "source": [
        "dataset = tf.data.Dataset.range(5)\n",
        "for d in dataset:\n",
        "  print(d.numpy())"
      ],
      "metadata": {
        "colab": {
          "base_uri": "https://localhost:8080/"
        },
        "id": "zW4PmfKzYYd-",
        "outputId": "e9ccbd88-6d75-4237-cf68-0da760de7a60"
      },
      "execution_count": 26,
      "outputs": [
        {
          "output_type": "stream",
          "name": "stdout",
          "text": [
            "0\n",
            "1\n",
            "2\n",
            "3\n",
            "4\n"
          ]
        }
      ]
    },
    {
      "cell_type": "code",
      "source": [
        "dataset = dataset.map(lambda x:x**2)\n",
        "for d in dataset:\n",
        "  print(d.numpy())"
      ],
      "metadata": {
        "colab": {
          "base_uri": "https://localhost:8080/"
        },
        "id": "68XMxZwKY748",
        "outputId": "370bbf05-4efa-4b01-f3a2-9d47b1a3614c"
      },
      "execution_count": 27,
      "outputs": [
        {
          "output_type": "stream",
          "name": "stdout",
          "text": [
            "0\n",
            "1\n",
            "4\n",
            "9\n",
            "16\n"
          ]
        }
      ]
    },
    {
      "cell_type": "code",
      "source": [
        "dataset = dataset.cache()\n",
        "list(dataset.as_numpy_iterator())"
      ],
      "metadata": {
        "colab": {
          "base_uri": "https://localhost:8080/"
        },
        "id": "NwOSxXTfZH0k",
        "outputId": "7a4aa9d2-c290-40f0-a575-70ad33c77582"
      },
      "execution_count": 28,
      "outputs": [
        {
          "output_type": "execute_result",
          "data": {
            "text/plain": [
              "[np.int64(0), np.int64(1), np.int64(4), np.int64(9), np.int64(16)]"
            ]
          },
          "metadata": {},
          "execution_count": 28
        }
      ]
    },
    {
      "cell_type": "code",
      "source": [
        "def mapped_fucntion(s):\n",
        "  tf.py_function(lambda: time.sleep(0.03) ,[], ())\n",
        "  return s"
      ],
      "metadata": {
        "id": "K1W0MSXQZQhl"
      },
      "execution_count": 29,
      "outputs": []
    },
    {
      "cell_type": "code",
      "source": [
        "%%timeit -n1 -r1\n",
        "benchmark(FileDataset().map(mapped_fucntion), 5)"
      ],
      "metadata": {
        "colab": {
          "base_uri": "https://localhost:8080/"
        },
        "id": "FF9KH4UNZoJG",
        "outputId": "04529497-1353-4a64-e056-284dfb3ba2e3"
      },
      "execution_count": 32,
      "outputs": [
        {
          "output_type": "stream",
          "name": "stdout",
          "text": [
            "1.7 s ± 0 ns per loop (mean ± std. dev. of 1 run, 1 loop each)\n"
          ]
        }
      ]
    },
    {
      "cell_type": "code",
      "source": [
        "%%timeit -n1 -r1\n",
        "benchmark(FileDataset().map(mapped_fucntion).cache(), 5)"
      ],
      "metadata": {
        "colab": {
          "base_uri": "https://localhost:8080/"
        },
        "id": "BKYJ5LzjZyeu",
        "outputId": "258f3bb8-e7a6-49d5-fa74-e6310cf7afba"
      },
      "execution_count": 34,
      "outputs": [
        {
          "output_type": "stream",
          "name": "stdout",
          "text": [
            "456 ms ± 0 ns per loop (mean ± std. dev. of 1 run, 1 loop each)\n"
          ]
        }
      ]
    },
    {
      "cell_type": "code",
      "source": [],
      "metadata": {
        "id": "KN4oNGIPZ8ht"
      },
      "execution_count": null,
      "outputs": []
    }
  ]
}