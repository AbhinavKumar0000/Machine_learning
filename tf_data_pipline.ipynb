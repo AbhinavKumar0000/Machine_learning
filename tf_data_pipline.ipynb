{
  "nbformat": 4,
  "nbformat_minor": 0,
  "metadata": {
    "colab": {
      "provenance": [],
      "mount_file_id": "1zS55r3zN9W-FC3AljlRIaXaJrj-eV88T",
      "authorship_tag": "ABX9TyNaZIcZ+pl262tVdJGd+pf0",
      "include_colab_link": true
    },
    "kernelspec": {
      "name": "python3",
      "display_name": "Python 3"
    },
    "language_info": {
      "name": "python"
    }
  },
  "cells": [
    {
      "cell_type": "markdown",
      "metadata": {
        "id": "view-in-github",
        "colab_type": "text"
      },
      "source": [
        "<a href=\"https://colab.research.google.com/github/AbhinavKumar0000/Machine_learning/blob/main/tf_data_pipline.ipynb\" target=\"_parent\"><img src=\"https://colab.research.google.com/assets/colab-badge.svg\" alt=\"Open In Colab\"/></a>"
      ]
    },
    {
      "cell_type": "code",
      "execution_count": 1,
      "metadata": {
        "id": "8enWirHZPpXU"
      },
      "outputs": [],
      "source": [
        "import tensorflow as tf"
      ]
    },
    {
      "cell_type": "code",
      "source": [
        "lst = [1,2,3,2,1,3,3423,423,424,2]"
      ],
      "metadata": {
        "id": "gNDCsCqs6kdG"
      },
      "execution_count": 2,
      "outputs": []
    },
    {
      "cell_type": "code",
      "source": [
        "tf_dataset= tf.data.Dataset.from_tensor_slices(lst)\n",
        "tf_dataset"
      ],
      "metadata": {
        "colab": {
          "base_uri": "https://localhost:8080/"
        },
        "id": "vmSaUtUA6o86",
        "outputId": "55ceef6a-dd76-4a27-c566-4fb037439997"
      },
      "execution_count": 3,
      "outputs": [
        {
          "output_type": "execute_result",
          "data": {
            "text/plain": [
              "<_TensorSliceDataset element_spec=TensorSpec(shape=(), dtype=tf.int32, name=None)>"
            ]
          },
          "metadata": {},
          "execution_count": 3
        }
      ]
    },
    {
      "cell_type": "code",
      "source": [
        "for num in tf_dataset.as_numpy_iterator():\n",
        "  print(num)"
      ],
      "metadata": {
        "colab": {
          "base_uri": "https://localhost:8080/"
        },
        "id": "NuAVgiJ_6ztO",
        "outputId": "aecd657f-4d85-4673-d0e1-db81c2cd5e69"
      },
      "execution_count": 7,
      "outputs": [
        {
          "output_type": "stream",
          "name": "stdout",
          "text": [
            "1\n",
            "2\n",
            "3\n",
            "2\n",
            "1\n",
            "3\n",
            "3423\n",
            "423\n",
            "424\n",
            "2\n"
          ]
        }
      ]
    },
    {
      "cell_type": "code",
      "source": [
        "for num in tf_dataset.take(3):\n",
        "  print(num.numpy())"
      ],
      "metadata": {
        "colab": {
          "base_uri": "https://localhost:8080/"
        },
        "id": "0dH2zOR-65GW",
        "outputId": "03ae4506-3868-4085-96dc-06a016d87fc7"
      },
      "execution_count": 8,
      "outputs": [
        {
          "output_type": "stream",
          "name": "stdout",
          "text": [
            "1\n",
            "2\n",
            "3\n"
          ]
        }
      ]
    },
    {
      "cell_type": "code",
      "source": [
        "tf_dataset = tf_dataset.filter(lambda x: x>5)\n",
        "for num in tf_dataset.as_numpy_iterator():\n",
        "  print(num)"
      ],
      "metadata": {
        "colab": {
          "base_uri": "https://localhost:8080/"
        },
        "id": "2TamVLJg7jKN",
        "outputId": "5fe0e411-dd79-441e-b4db-9d5219a3d5b4"
      },
      "execution_count": 11,
      "outputs": [
        {
          "output_type": "stream",
          "name": "stdout",
          "text": [
            "3423\n",
            "423\n",
            "424\n"
          ]
        }
      ]
    },
    {
      "cell_type": "code",
      "source": [
        "tf_dataset = tf_dataset.map(lambda x: x*5)\n",
        "for num in tf_dataset.as_numpy_iterator():\n",
        "  print(num)"
      ],
      "metadata": {
        "colab": {
          "base_uri": "https://localhost:8080/"
        },
        "id": "DkboAe9q7oS5",
        "outputId": "b13ab16e-beb7-4b33-c332-15eede5fb927"
      },
      "execution_count": 12,
      "outputs": [
        {
          "output_type": "stream",
          "name": "stdout",
          "text": [
            "17115\n",
            "2115\n",
            "2120\n"
          ]
        }
      ]
    },
    {
      "cell_type": "code",
      "source": [
        "tf_dataset = tf_dataset.shuffle(1)\n",
        "for num in tf_dataset.as_numpy_iterator():\n",
        "  print(num)"
      ],
      "metadata": {
        "colab": {
          "base_uri": "https://localhost:8080/"
        },
        "id": "i_24SD6n8BGd",
        "outputId": "56557d12-f5a9-4aad-be58-65a8c7530eeb"
      },
      "execution_count": 15,
      "outputs": [
        {
          "output_type": "stream",
          "name": "stdout",
          "text": [
            "2115\n",
            "17115\n",
            "2120\n"
          ]
        }
      ]
    },
    {
      "cell_type": "code",
      "source": [
        "for batch in tf_dataset.batch(3):\n",
        "  print(batch.numpy())"
      ],
      "metadata": {
        "colab": {
          "base_uri": "https://localhost:8080/"
        },
        "id": "mEzXw2Iq8UuV",
        "outputId": "8b405c82-d10a-4d78-e2a6-7778b06f409f"
      },
      "execution_count": 19,
      "outputs": [
        {
          "output_type": "stream",
          "name": "stdout",
          "text": [
            "[ 2115  2120 17115]\n"
          ]
        }
      ]
    },
    {
      "cell_type": "code",
      "source": [
        "tf_dataset= tf.data.Dataset.from_tensor_slices(lst)\n",
        "final_pipeline = tf_dataset.filter(lambda x: x>5).map(lambda y: y*5).shuffle(1).batch(3)\n",
        "\n",
        "for num in tf_dataset.as_numpy_iterator():\n",
        "  print(num)\n",
        "\n",
        "print(\"--------------------------\")\n",
        "\n",
        "for num in final_pipeline.as_numpy_iterator():\n",
        "  print(num)"
      ],
      "metadata": {
        "colab": {
          "base_uri": "https://localhost:8080/"
        },
        "id": "9VVWdyfN9F30",
        "outputId": "9af359c8-f1d4-4aa2-caf7-2a2e2b2ba088"
      },
      "execution_count": 22,
      "outputs": [
        {
          "output_type": "stream",
          "name": "stdout",
          "text": [
            "1\n",
            "2\n",
            "3\n",
            "2\n",
            "1\n",
            "3\n",
            "3423\n",
            "423\n",
            "424\n",
            "2\n",
            "--------------------------\n",
            "[17115  2115  2120]\n"
          ]
        }
      ]
    },
    {
      "cell_type": "code",
      "source": [
        "image_ds = tf.data.Dataset.list_files('/content/drive/MyDrive/dataset_images/*/*', shuffle =False)"
      ],
      "metadata": {
        "id": "HIR1Krak9qTK"
      },
      "execution_count": 49,
      "outputs": []
    },
    {
      "cell_type": "code",
      "source": [
        "for filr in image_ds.take(5):\n",
        "  print(filr.numpy())"
      ],
      "metadata": {
        "colab": {
          "base_uri": "https://localhost:8080/"
        },
        "id": "Eq5jkI5-DUkx",
        "outputId": "40d46ee0-461f-4241-82d6-8bdbf183d89d"
      },
      "execution_count": 50,
      "outputs": [
        {
          "output_type": "stream",
          "name": "stdout",
          "text": [
            "b'/content/drive/MyDrive/dataset_images/f1_car/031325-f1-trailer-announcement-inline-image-01-67d33e2261917.jpg'\n",
            "b'/content/drive/MyDrive/dataset_images/f1_car/108060339-Inside_Track_Thumbnail_1_CLEAN.jpg'\n",
            "b'/content/drive/MyDrive/dataset_images/f1_car/112496843.jpg'\n",
            "b'/content/drive/MyDrive/dataset_images/f1_car/118842794.jpg'\n",
            "b'/content/drive/MyDrive/dataset_images/f1_car/11sp-brazil-sprint-inyt1-mediumSquareAt3X.jpg'\n"
          ]
        }
      ]
    },
    {
      "cell_type": "code",
      "source": [
        "class_names = [\"f1_car\", \"fighter_jet\"]"
      ],
      "metadata": {
        "id": "TLj9T6qQDdzY"
      },
      "execution_count": 51,
      "outputs": []
    },
    {
      "cell_type": "code",
      "source": [
        "image_count = len(image_ds)\n",
        "image_count"
      ],
      "metadata": {
        "colab": {
          "base_uri": "https://localhost:8080/"
        },
        "id": "Aw5iSpV5D8bj",
        "outputId": "44b16abf-3b39-4dab-854e-21871c11c712"
      },
      "execution_count": 52,
      "outputs": [
        {
          "output_type": "execute_result",
          "data": {
            "text/plain": [
              "199"
            ]
          },
          "metadata": {},
          "execution_count": 52
        }
      ]
    },
    {
      "cell_type": "code",
      "source": [
        "train_size = int(image_count*0.8)\n",
        "\n",
        "train_ds = image_ds.take(train_size)\n",
        "test_ds = image_ds.skip(train_size)"
      ],
      "metadata": {
        "id": "yx0Mdk81EGHu"
      },
      "execution_count": 53,
      "outputs": []
    },
    {
      "cell_type": "code",
      "source": [
        "len(test_ds)"
      ],
      "metadata": {
        "colab": {
          "base_uri": "https://localhost:8080/"
        },
        "id": "t5IVjyogE95A",
        "outputId": "0f71e550-7ec0-4c9e-a814-d5f4cd9d0bf1"
      },
      "execution_count": 36,
      "outputs": [
        {
          "output_type": "execute_result",
          "data": {
            "text/plain": [
              "40"
            ]
          },
          "metadata": {},
          "execution_count": 36
        }
      ]
    },
    {
      "cell_type": "code",
      "source": [
        "len(train_ds)"
      ],
      "metadata": {
        "colab": {
          "base_uri": "https://localhost:8080/"
        },
        "id": "Lr83hFUAFAMp",
        "outputId": "ee9c99ec-1e5d-4e82-f4b1-4eca106188a5"
      },
      "execution_count": 37,
      "outputs": [
        {
          "output_type": "execute_result",
          "data": {
            "text/plain": [
              "159"
            ]
          },
          "metadata": {},
          "execution_count": 37
        }
      ]
    },
    {
      "cell_type": "code",
      "source": [
        "label = \"b'/content/drive/MyDrive/dataset_images/f1_car/031325-f1-trailer-announcement-inline-image-01-67d33e2261917.jpg'\"\n",
        "\n",
        "label.split(\"/\")[-2]"
      ],
      "metadata": {
        "colab": {
          "base_uri": "https://localhost:8080/",
          "height": 36
        },
        "id": "AIyIIdL3FBoT",
        "outputId": "242ec7eb-3794-4aa9-f28a-fa76ff734636"
      },
      "execution_count": 57,
      "outputs": [
        {
          "output_type": "execute_result",
          "data": {
            "text/plain": [
              "'f1_car'"
            ],
            "application/vnd.google.colaboratory.intrinsic+json": {
              "type": "string"
            }
          },
          "metadata": {},
          "execution_count": 57
        }
      ]
    },
    {
      "cell_type": "code",
      "source": [
        "def get_label(file_path):\n",
        "  return tf.strings.split(file_path,\"/\")[-2]"
      ],
      "metadata": {
        "id": "5ZQBmDbqFXhS"
      },
      "execution_count": 60,
      "outputs": []
    },
    {
      "cell_type": "code",
      "source": [
        "def process_image(file_path):\n",
        "  label = get_label(file_path)\n",
        "\n",
        "  img = tf.io.read_file(file_path)\n",
        "  img = tf.image.decode_jpeg(img)\n",
        "  img = tf.image.resize(img,[128,128])\n",
        "\n",
        "  return img, label"
      ],
      "metadata": {
        "id": "ZSP4X8thGvll"
      },
      "execution_count": 62,
      "outputs": []
    },
    {
      "cell_type": "code",
      "source": [
        "train_ds = train_ds.map(process_image)\n",
        "for label in train_ds.take(3):\n",
        "  print(label)"
      ],
      "metadata": {
        "colab": {
          "base_uri": "https://localhost:8080/"
        },
        "id": "Hc7Az9XcF-Wy",
        "outputId": "0e7465ed-68c2-4f04-987f-d62d14062e00"
      },
      "execution_count": 67,
      "outputs": [
        {
          "output_type": "stream",
          "name": "stdout",
          "text": [
            "(<tf.Tensor: shape=(128, 128, 3), dtype=float32, numpy=\n",
            "array([[[ 54.398438,  68.39844 ,  69.39844 ],\n",
            "        [ 54.      ,  68.      ,  69.      ],\n",
            "        [ 54.5     ,  68.5     ,  70.484375],\n",
            "        ...,\n",
            "        [ 36.      ,  53.      ,  60.      ],\n",
            "        [ 37.      ,  54.      ,  61.      ],\n",
            "        [ 35.601562,  52.601562,  59.601562]],\n",
            "\n",
            "       [[ 55.      ,  69.      ,  70.      ],\n",
            "        [ 54.      ,  68.      ,  71.      ],\n",
            "        [ 53.5     ,  67.5     ,  69.515625],\n",
            "        ...,\n",
            "        [ 37.      ,  54.      ,  61.      ],\n",
            "        [ 36.5     ,  53.5     ,  60.5     ],\n",
            "        [ 37.05078 ,  54.05078 ,  61.05078 ]],\n",
            "\n",
            "       [[ 54.94922 ,  68.94922 ,  69.94922 ],\n",
            "        [ 55.      ,  69.      ,  72.      ],\n",
            "        [ 54.476562,  68.47656 ,  68.96875 ],\n",
            "        ...,\n",
            "        [ 37.746094,  54.746094,  61.746094],\n",
            "        [ 37.      ,  54.      ,  61.      ],\n",
            "        [ 38.      ,  55.      ,  62.      ]],\n",
            "\n",
            "       ...,\n",
            "\n",
            "       [[ 85.      ,  91.      ,  81.      ],\n",
            "        [ 85.54297 ,  91.54297 ,  81.54297 ],\n",
            "        [ 90.00781 ,  96.00781 ,  86.00781 ],\n",
            "        ...,\n",
            "        [ 62.253906,  69.25391 ,  62.253906],\n",
            "        [ 59.304688,  64.30469 ,  58.304688],\n",
            "        [ 59.652344,  64.65234 ,  58.652344]],\n",
            "\n",
            "       [[ 83.      ,  88.      ,  81.      ],\n",
            "        [ 85.5     ,  90.5     ,  83.5     ],\n",
            "        [ 87.00781 ,  92.00781 ,  85.00781 ],\n",
            "        ...,\n",
            "        [ 71.      ,  76.      ,  69.      ],\n",
            "        [ 68.04297 ,  73.04297 ,  67.04297 ],\n",
            "        [ 67.65234 ,  72.65234 ,  66.65234 ]],\n",
            "\n",
            "       [[ 97.296875, 103.296875,  93.296875],\n",
            "        [ 99.69531 , 105.69531 ,  95.69531 ],\n",
            "        [109.25391 , 115.25391 , 104.26953 ],\n",
            "        ...,\n",
            "        [ 69.49219 ,  74.49219 ,  68.49219 ],\n",
            "        [ 70.890625,  75.890625,  69.890625],\n",
            "        [ 67.24609 ,  72.24609 ,  66.24609 ]]], dtype=float32)>, <tf.Tensor: shape=(), dtype=string, numpy=b'f1_car'>)\n",
            "(<tf.Tensor: shape=(128, 128, 3), dtype=float32, numpy=\n",
            "array([[[108.     , 139.     , 185.     ],\n",
            "        [106.71875, 137.71875, 183.71875],\n",
            "        [108.     , 140.     , 181.     ],\n",
            "        ...,\n",
            "        [142.28125, 125.28125, 115.28125],\n",
            "        [140.15625, 127.15625, 119.15625],\n",
            "        [125.4375 , 108.4375 ,  98.4375 ]],\n",
            "\n",
            "       [[108.     , 139.     , 185.     ],\n",
            "        [109.     , 141.     , 182.     ],\n",
            "        [108.     , 140.     , 181.     ],\n",
            "        ...,\n",
            "        [134.84375, 122.84375, 110.84375],\n",
            "        [137.15625, 125.15625, 113.15625],\n",
            "        [118.0625 , 106.0625 ,  94.0625 ]],\n",
            "\n",
            "       [[109.     , 141.     , 182.     ],\n",
            "        [109.     , 141.     , 182.     ],\n",
            "        [108.     , 140.     , 181.     ],\n",
            "        ...,\n",
            "        [139.     , 127.     , 115.     ],\n",
            "        [144.     , 127.     , 117.     ],\n",
            "        [120.0625 , 108.0625 ,  96.0625 ]],\n",
            "\n",
            "       ...,\n",
            "\n",
            "       [[152.90625, 151.90625, 147.90625],\n",
            "        [153.375  , 148.375  , 145.375  ],\n",
            "        [163.96875, 158.96875, 155.96875],\n",
            "        ...,\n",
            "        [140.625  , 135.625  , 132.625  ],\n",
            "        [111.78125, 106.78125, 103.78125],\n",
            "        [161.78125, 160.78125, 156.78125]],\n",
            "\n",
            "       [[110.     , 105.     , 102.     ],\n",
            "        [132.4375 , 131.75   , 127.59375],\n",
            "        [ 86.90625,  81.90625,  78.90625],\n",
            "        ...,\n",
            "        [171.6875 , 166.6875 , 163.6875 ],\n",
            "        [178.96875, 173.96875, 170.96875],\n",
            "        [202.75   , 197.75   , 194.75   ]],\n",
            "\n",
            "       [[133.875  , 128.875  , 125.875  ],\n",
            "        [165.1875 , 160.1875 , 157.1875 ],\n",
            "        [141.375  , 136.375  , 133.375  ],\n",
            "        ...,\n",
            "        [118.53125, 113.53125, 110.53125],\n",
            "        [140.9375 , 138.9375 , 139.9375 ],\n",
            "        [165.6875 , 160.6875 , 157.6875 ]]], dtype=float32)>, <tf.Tensor: shape=(), dtype=string, numpy=b'f1_car'>)\n",
            "(<tf.Tensor: shape=(128, 128, 3), dtype=float32, numpy=\n",
            "array([[[ 11.     ,  15.     ,  60.     ],\n",
            "        [ 10.     ,  14.     ,  59.     ],\n",
            "        [  9.65625,  13.65625,  58.65625],\n",
            "        ...,\n",
            "        [ 10.15625,  21.46875,  65.53125],\n",
            "        [ 12.34375,  22.15625,  66.71875],\n",
            "        [ 11.84375,  19.5    ,  65.5    ]],\n",
            "\n",
            "       [[ 10.53125,  14.53125,  61.40625],\n",
            "        [ 10.     ,  14.     ,  60.875  ],\n",
            "        [ 11.     ,  15.     ,  61.875  ],\n",
            "        ...,\n",
            "        [  9.0625 ,  21.     ,  66.53125],\n",
            "        [ 13.375  ,  21.5625 ,  68.5    ],\n",
            "        [ 11.4375 ,  19.53125,  65.5625 ]],\n",
            "\n",
            "       [[ 12.0625 ,  16.0625 ,  63.0625 ],\n",
            "        [ 11.84375,  15.84375,  62.84375],\n",
            "        [ 11.78125,  15.78125,  62.78125],\n",
            "        ...,\n",
            "        [  9.9375 ,  22.0625 ,  67.5    ],\n",
            "        [ 11.5625 ,  23.     ,  70.1875 ],\n",
            "        [ 12.5625 ,  20.5625 ,  69.5625 ]],\n",
            "\n",
            "       ...,\n",
            "\n",
            "       [[129.3125 ,  81.5625 ,  29.125  ],\n",
            "        [130.875  ,  82.34375,  29.90625],\n",
            "        [136.78125,  83.78125,  30.78125],\n",
            "        ...,\n",
            "        [  0.     ,   0.     ,   4.     ],\n",
            "        [  3.25   ,   5.75   ,   9.09375],\n",
            "        [ 10.5625 ,  15.8125 ,  21.375  ]],\n",
            "\n",
            "       [[131.0625 ,  82.0625 ,  26.0625 ],\n",
            "        [132.15625,  81.15625,  26.15625],\n",
            "        [135.65625,  82.65625,  29.59375],\n",
            "        ...,\n",
            "        [130.5    , 129.5    , 134.5    ],\n",
            "        [ 18.34375,  19.21875,  21.40625],\n",
            "        [ 38.96875,  38.90625,  41.09375]],\n",
            "\n",
            "       [[125.625  ,  82.     ,  29.75   ],\n",
            "        [129.78125,  81.53125,  31.71875],\n",
            "        [131.625  ,  81.6875 ,  32.375  ],\n",
            "        ...,\n",
            "        [ 32.84375,  31.84375,  36.84375],\n",
            "        [ 23.0625 ,  22.0625 ,  27.0625 ],\n",
            "        [121.96875, 120.96875, 125.96875]]], dtype=float32)>, <tf.Tensor: shape=(), dtype=string, numpy=b'f1_car'>)\n"
          ]
        }
      ]
    },
    {
      "cell_type": "code",
      "source": [
        "def scale(image, label):\n",
        "  return image/255, label"
      ],
      "metadata": {
        "id": "-v4t5Es8GdE0"
      },
      "execution_count": 68,
      "outputs": []
    },
    {
      "cell_type": "code",
      "source": [
        "train_ds = train_ds.map(scale)"
      ],
      "metadata": {
        "id": "MCDw_Qc-IA1R"
      },
      "execution_count": 69,
      "outputs": []
    },
    {
      "cell_type": "code",
      "source": [
        "for image,label in train_ds.take(5):\n",
        "  print(\"image: \",image.numpy()[0][0])\n",
        "  print(\"label: \", label.numpy())"
      ],
      "metadata": {
        "colab": {
          "base_uri": "https://localhost:8080/"
        },
        "id": "RU8q2gJVIEyw",
        "outputId": "c831086f-b65d-4634-ae38-f45457d85e57"
      },
      "execution_count": 70,
      "outputs": [
        {
          "output_type": "stream",
          "name": "stdout",
          "text": [
            "image:  [0.2133272  0.26822916 0.27215073]\n",
            "label:  b'f1_car'\n",
            "image:  [0.42352942 0.54509807 0.7254902 ]\n",
            "label:  b'f1_car'\n",
            "image:  [0.04313726 0.05882353 0.23529412]\n",
            "label:  b'f1_car'\n",
            "image:  [0.43884805 0.46237746 0.46237746]\n",
            "label:  b'f1_car'\n",
            "image:  [0.1343099  0.23627068 0.08332951]\n",
            "label:  b'f1_car'\n"
          ]
        }
      ]
    },
    {
      "cell_type": "code",
      "source": [
        "image_ds = tf.data.Dataset.list_files('/content/drive/MyDrive/dataset_images/*/*', shuffle =False)"
      ],
      "metadata": {
        "id": "daxC7kgeRbV7"
      },
      "execution_count": 71,
      "outputs": []
    },
    {
      "cell_type": "code",
      "source": [
        "image_count = len(image_ds)\n",
        "image_count"
      ],
      "metadata": {
        "colab": {
          "base_uri": "https://localhost:8080/"
        },
        "id": "mgNN_dYGRplJ",
        "outputId": "4ef544ba-621a-46a7-f869-75eddd761229"
      },
      "execution_count": 73,
      "outputs": [
        {
          "output_type": "execute_result",
          "data": {
            "text/plain": [
              "199"
            ]
          },
          "metadata": {},
          "execution_count": 73
        }
      ]
    },
    {
      "cell_type": "code",
      "source": [
        "train_size = int(image_count*0.8)\n",
        "\n",
        "train_ds = image_ds.take(train_size)\n",
        "test_ds = image_ds.skip(train_size)"
      ],
      "metadata": {
        "id": "MPqdY_OyRrey"
      },
      "execution_count": 74,
      "outputs": []
    },
    {
      "cell_type": "code",
      "source": [
        "train_ds = train_ds.map(process_image).map(scale)"
      ],
      "metadata": {
        "id": "t3J67w4-R6FY"
      },
      "execution_count": 75,
      "outputs": []
    },
    {
      "cell_type": "code",
      "source": [
        "for image,label in train_ds.take(5):\n",
        "  print(\"image: \",image.numpy()[0][0])\n",
        "  print(\"label: \", label.numpy())"
      ],
      "metadata": {
        "colab": {
          "base_uri": "https://localhost:8080/"
        },
        "id": "5W5mOxWLSKRP",
        "outputId": "5ba14c39-66b7-4ae0-ccab-5ee10fe12c7f"
      },
      "execution_count": 76,
      "outputs": [
        {
          "output_type": "stream",
          "name": "stdout",
          "text": [
            "image:  [0.2133272  0.26822916 0.27215073]\n",
            "label:  b'f1_car'\n",
            "image:  [0.42352942 0.54509807 0.7254902 ]\n",
            "label:  b'f1_car'\n",
            "image:  [0.04313726 0.05882353 0.23529412]\n",
            "label:  b'f1_car'\n",
            "image:  [0.43884805 0.46237746 0.46237746]\n",
            "label:  b'f1_car'\n",
            "image:  [0.1343099  0.23627068 0.08332951]\n",
            "label:  b'f1_car'\n"
          ]
        }
      ]
    },
    {
      "cell_type": "code",
      "source": [],
      "metadata": {
        "id": "tTk75PWRSMpd"
      },
      "execution_count": null,
      "outputs": []
    }
  ]
}